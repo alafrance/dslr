{
 "cells": [
  {
   "cell_type": "markdown",
   "source": [
    "# Machine Learning - Logistic Regression\n",
    "\n",
    "## Dataset"
   ],
   "metadata": {
    "collapsed": false
   },
   "id": "2fc86907e48d905f"
  },
  {
   "cell_type": "code",
   "outputs": [
    {
     "data": {
      "text/plain": "      Index Hogwarts House First Name    Last Name    Birthday Best Hand  \\\n0         0      Ravenclaw     Tamara          Hsu  2000-03-30      Left   \n1         1      Slytherin      Erich      Paredes  1999-10-14     Right   \n2         2      Ravenclaw   Stephany        Braun  1999-11-03      Left   \n3         3     Gryffindor      Vesta    Mcmichael  2000-08-19      Left   \n5         5      Slytherin    Corrine      Hammond  1999-04-04     Right   \n...     ...            ...        ...          ...         ...       ...   \n1595   1595     Gryffindor       Jung        Blank  2001-09-14     Right   \n1596   1596      Slytherin     Shelli         Lock  1998-03-12      Left   \n1597   1597     Gryffindor   Benjamin  Christensen  1999-10-24     Right   \n1598   1598     Hufflepuff  Charlotte       Dillon  2001-09-21      Left   \n1599   1599     Hufflepuff      Kylie        Nowak  2000-08-21      Left   \n\n      Arithmancy   Astronomy  Herbology  Defense Against the Dark Arts  \\\n0        58384.0 -487.886086   5.727180                       4.878861   \n1        67239.0 -552.060507  -5.987446                       5.520605   \n2        23702.0 -366.076117   7.725017                       3.660761   \n3        32667.0  697.742809  -6.497214                      -6.977428   \n5        21209.0 -613.687160  -4.289197                       6.136872   \n...          ...         ...        ...                            ...   \n1595     49009.0  354.280086  -4.541837                      -3.542801   \n1596     63296.0  367.531174   6.061064                      -3.675312   \n1597     63905.0  544.018925  -3.203269                      -5.440189   \n1598     82713.0  453.676219   3.442831                      -4.536762   \n1599     48639.0  688.911989   5.421046                      -6.889120   \n\n      Divination  Muggle Studies  Ancient Runes  History of Magic  \\\n0          4.722      272.035831     532.484226          5.231058   \n1         -5.612     -487.340557     367.760303          4.107170   \n2          6.140      664.893521     602.585284          3.555579   \n3          4.026     -537.001128     523.982133         -4.809637   \n5         -6.592     -440.997704     396.201804          5.380286   \n...          ...             ...            ...               ...   \n1595       5.702     -497.235066     618.220213         -5.231721   \n1596       1.757     -643.271092     445.827565          2.238112   \n1597       6.065     -385.150457     635.211486         -5.984257   \n1598       6.738     -831.741123     383.444937          3.813111   \n1599       6.593     -234.207911     339.775154          7.208415   \n\n      Transfiguration    Potions  Care of Magical Creatures     Charms  Flying  \n0         1039.788281   3.790369                   0.715939 -232.79405  -26.89  \n1         1058.944592   7.248742                   0.091674 -252.18425 -113.45  \n2         1088.088348   8.728531                  -0.515327 -227.34265   30.42  \n3          920.391449   0.821911                  -0.014040 -256.84675  200.64  \n5         1052.845164  11.751212                   1.049894 -247.94549  -34.69  \n...               ...        ...                        ...        ...     ...  \n1595       964.219853   3.389086                  -0.649983 -250.39401  185.83  \n1596      1056.147366   5.825263                  -0.333962 -246.42719   44.80  \n1597       953.866685   1.709808                   0.071569 -251.63679  198.47  \n1598      1087.949205   3.904100                  -0.531875 -246.19072  -76.81  \n1599      1034.928004   2.052215                   0.150532 -244.02063  -54.77  \n\n[1251 rows x 19 columns]",
      "text/html": "<div>\n<style scoped>\n    .dataframe tbody tr th:only-of-type {\n        vertical-align: middle;\n    }\n\n    .dataframe tbody tr th {\n        vertical-align: top;\n    }\n\n    .dataframe thead th {\n        text-align: right;\n    }\n</style>\n<table border=\"1\" class=\"dataframe\">\n  <thead>\n    <tr style=\"text-align: right;\">\n      <th></th>\n      <th>Index</th>\n      <th>Hogwarts House</th>\n      <th>First Name</th>\n      <th>Last Name</th>\n      <th>Birthday</th>\n      <th>Best Hand</th>\n      <th>Arithmancy</th>\n      <th>Astronomy</th>\n      <th>Herbology</th>\n      <th>Defense Against the Dark Arts</th>\n      <th>Divination</th>\n      <th>Muggle Studies</th>\n      <th>Ancient Runes</th>\n      <th>History of Magic</th>\n      <th>Transfiguration</th>\n      <th>Potions</th>\n      <th>Care of Magical Creatures</th>\n      <th>Charms</th>\n      <th>Flying</th>\n    </tr>\n  </thead>\n  <tbody>\n    <tr>\n      <th>0</th>\n      <td>0</td>\n      <td>Ravenclaw</td>\n      <td>Tamara</td>\n      <td>Hsu</td>\n      <td>2000-03-30</td>\n      <td>Left</td>\n      <td>58384.0</td>\n      <td>-487.886086</td>\n      <td>5.727180</td>\n      <td>4.878861</td>\n      <td>4.722</td>\n      <td>272.035831</td>\n      <td>532.484226</td>\n      <td>5.231058</td>\n      <td>1039.788281</td>\n      <td>3.790369</td>\n      <td>0.715939</td>\n      <td>-232.79405</td>\n      <td>-26.89</td>\n    </tr>\n    <tr>\n      <th>1</th>\n      <td>1</td>\n      <td>Slytherin</td>\n      <td>Erich</td>\n      <td>Paredes</td>\n      <td>1999-10-14</td>\n      <td>Right</td>\n      <td>67239.0</td>\n      <td>-552.060507</td>\n      <td>-5.987446</td>\n      <td>5.520605</td>\n      <td>-5.612</td>\n      <td>-487.340557</td>\n      <td>367.760303</td>\n      <td>4.107170</td>\n      <td>1058.944592</td>\n      <td>7.248742</td>\n      <td>0.091674</td>\n      <td>-252.18425</td>\n      <td>-113.45</td>\n    </tr>\n    <tr>\n      <th>2</th>\n      <td>2</td>\n      <td>Ravenclaw</td>\n      <td>Stephany</td>\n      <td>Braun</td>\n      <td>1999-11-03</td>\n      <td>Left</td>\n      <td>23702.0</td>\n      <td>-366.076117</td>\n      <td>7.725017</td>\n      <td>3.660761</td>\n      <td>6.140</td>\n      <td>664.893521</td>\n      <td>602.585284</td>\n      <td>3.555579</td>\n      <td>1088.088348</td>\n      <td>8.728531</td>\n      <td>-0.515327</td>\n      <td>-227.34265</td>\n      <td>30.42</td>\n    </tr>\n    <tr>\n      <th>3</th>\n      <td>3</td>\n      <td>Gryffindor</td>\n      <td>Vesta</td>\n      <td>Mcmichael</td>\n      <td>2000-08-19</td>\n      <td>Left</td>\n      <td>32667.0</td>\n      <td>697.742809</td>\n      <td>-6.497214</td>\n      <td>-6.977428</td>\n      <td>4.026</td>\n      <td>-537.001128</td>\n      <td>523.982133</td>\n      <td>-4.809637</td>\n      <td>920.391449</td>\n      <td>0.821911</td>\n      <td>-0.014040</td>\n      <td>-256.84675</td>\n      <td>200.64</td>\n    </tr>\n    <tr>\n      <th>5</th>\n      <td>5</td>\n      <td>Slytherin</td>\n      <td>Corrine</td>\n      <td>Hammond</td>\n      <td>1999-04-04</td>\n      <td>Right</td>\n      <td>21209.0</td>\n      <td>-613.687160</td>\n      <td>-4.289197</td>\n      <td>6.136872</td>\n      <td>-6.592</td>\n      <td>-440.997704</td>\n      <td>396.201804</td>\n      <td>5.380286</td>\n      <td>1052.845164</td>\n      <td>11.751212</td>\n      <td>1.049894</td>\n      <td>-247.94549</td>\n      <td>-34.69</td>\n    </tr>\n    <tr>\n      <th>...</th>\n      <td>...</td>\n      <td>...</td>\n      <td>...</td>\n      <td>...</td>\n      <td>...</td>\n      <td>...</td>\n      <td>...</td>\n      <td>...</td>\n      <td>...</td>\n      <td>...</td>\n      <td>...</td>\n      <td>...</td>\n      <td>...</td>\n      <td>...</td>\n      <td>...</td>\n      <td>...</td>\n      <td>...</td>\n      <td>...</td>\n      <td>...</td>\n    </tr>\n    <tr>\n      <th>1595</th>\n      <td>1595</td>\n      <td>Gryffindor</td>\n      <td>Jung</td>\n      <td>Blank</td>\n      <td>2001-09-14</td>\n      <td>Right</td>\n      <td>49009.0</td>\n      <td>354.280086</td>\n      <td>-4.541837</td>\n      <td>-3.542801</td>\n      <td>5.702</td>\n      <td>-497.235066</td>\n      <td>618.220213</td>\n      <td>-5.231721</td>\n      <td>964.219853</td>\n      <td>3.389086</td>\n      <td>-0.649983</td>\n      <td>-250.39401</td>\n      <td>185.83</td>\n    </tr>\n    <tr>\n      <th>1596</th>\n      <td>1596</td>\n      <td>Slytherin</td>\n      <td>Shelli</td>\n      <td>Lock</td>\n      <td>1998-03-12</td>\n      <td>Left</td>\n      <td>63296.0</td>\n      <td>367.531174</td>\n      <td>6.061064</td>\n      <td>-3.675312</td>\n      <td>1.757</td>\n      <td>-643.271092</td>\n      <td>445.827565</td>\n      <td>2.238112</td>\n      <td>1056.147366</td>\n      <td>5.825263</td>\n      <td>-0.333962</td>\n      <td>-246.42719</td>\n      <td>44.80</td>\n    </tr>\n    <tr>\n      <th>1597</th>\n      <td>1597</td>\n      <td>Gryffindor</td>\n      <td>Benjamin</td>\n      <td>Christensen</td>\n      <td>1999-10-24</td>\n      <td>Right</td>\n      <td>63905.0</td>\n      <td>544.018925</td>\n      <td>-3.203269</td>\n      <td>-5.440189</td>\n      <td>6.065</td>\n      <td>-385.150457</td>\n      <td>635.211486</td>\n      <td>-5.984257</td>\n      <td>953.866685</td>\n      <td>1.709808</td>\n      <td>0.071569</td>\n      <td>-251.63679</td>\n      <td>198.47</td>\n    </tr>\n    <tr>\n      <th>1598</th>\n      <td>1598</td>\n      <td>Hufflepuff</td>\n      <td>Charlotte</td>\n      <td>Dillon</td>\n      <td>2001-09-21</td>\n      <td>Left</td>\n      <td>82713.0</td>\n      <td>453.676219</td>\n      <td>3.442831</td>\n      <td>-4.536762</td>\n      <td>6.738</td>\n      <td>-831.741123</td>\n      <td>383.444937</td>\n      <td>3.813111</td>\n      <td>1087.949205</td>\n      <td>3.904100</td>\n      <td>-0.531875</td>\n      <td>-246.19072</td>\n      <td>-76.81</td>\n    </tr>\n    <tr>\n      <th>1599</th>\n      <td>1599</td>\n      <td>Hufflepuff</td>\n      <td>Kylie</td>\n      <td>Nowak</td>\n      <td>2000-08-21</td>\n      <td>Left</td>\n      <td>48639.0</td>\n      <td>688.911989</td>\n      <td>5.421046</td>\n      <td>-6.889120</td>\n      <td>6.593</td>\n      <td>-234.207911</td>\n      <td>339.775154</td>\n      <td>7.208415</td>\n      <td>1034.928004</td>\n      <td>2.052215</td>\n      <td>0.150532</td>\n      <td>-244.02063</td>\n      <td>-54.77</td>\n    </tr>\n  </tbody>\n</table>\n<p>1251 rows × 19 columns</p>\n</div>"
     },
     "execution_count": 168,
     "metadata": {},
     "output_type": "execute_result"
    }
   ],
   "source": [
    "import pandas as pd\n",
    "import numpy as np\n",
    "\n",
    "train_data = pd.read_csv('../data/dataset_train.csv').dropna()\n",
    "\n",
    "# Remove the columns that are not features and standardize the data\n",
    "def standardize(x):\n",
    "    means = np.mean(x, axis=0)\n",
    "    stds = np.std(x, axis=0)\n",
    "\n",
    "    stds[stds == 0] = 1\n",
    "    return (x - means) / stds\n",
    "train_data_filtered = train_data.drop(columns = ['Hogwarts House', 'First Name', 'Last Name', 'Birthday', 'Best Hand', 'Index', 'Astronomy', 'Arithmancy', 'Care of Magical Creatures'])\n",
    "x_train_standardized = standardize(train_data_filtered)\n",
    "\n",
    "y_true = {\n",
    "    'gryffindor': (train_data['Hogwarts House'] == 'Gryffindor').astype(int),\n",
    "    'slytherin': (train_data['Hogwarts House'] == 'Slytherin').astype(int),\n",
    "    'ravenclaw': (train_data['Hogwarts House'] == 'Ravenclaw').astype(int),\n",
    "    'hufflepuff': (train_data['Hogwarts House'] == 'Hufflepuff').astype(int)\n",
    "}\n",
    "train_data"
   ],
   "metadata": {
    "collapsed": false,
    "ExecuteTime": {
     "end_time": "2024-03-22T23:37:13.240306Z",
     "start_time": "2024-03-22T23:37:13.215839Z"
    }
   },
   "id": "122c4fb2d940115f",
   "execution_count": 168
  },
  {
   "cell_type": "markdown",
   "source": [
    "## Logistic Regression\n",
    "### Log loss\n",
    "The log loss function is used to evaluate the performance of a classification model. It is defined as follows\n",
    "With y_true representing the true labels and y_pred representing the predicted labels.\n",
    "The log loss is also known as the cross-entropy loss."
   ],
   "metadata": {
    "collapsed": false
   },
   "id": "b62c0d89975aafc"
  },
  {
   "cell_type": "code",
   "outputs": [
    {
     "name": "stdout",
     "output_type": "stream",
     "text": [
      "0.3721961876540016\n"
     ]
    }
   ],
   "source": [
    "def log_loss(y_true, y_pred):\n",
    "    y_pred = np.clip(y_pred, 1e-7, 1 - 1e-7) # Clip the values to avoid log(0)\n",
    "    return -np.mean(y_true * np.log(y_pred) + (1 - y_true) * np.log(1 - y_pred))\n",
    "\n",
    "# Example log loss\n",
    "y_true_sample = np.array([0, 1, 1, 0, 1])\n",
    "y_pred_sample = np.array([0.1, 0.9, 0.8, 0.2, 0.3])\n",
    "print(log_loss(y_true_sample, y_pred_sample))"
   ],
   "metadata": {
    "collapsed": false,
    "ExecuteTime": {
     "end_time": "2024-03-22T23:12:37.343933Z",
     "start_time": "2024-03-22T23:12:37.337349Z"
    }
   },
   "id": "f17c706e58411b3f",
   "execution_count": 147
  },
  {
   "cell_type": "markdown",
   "source": [],
   "metadata": {
    "collapsed": false
   },
   "id": "4ef2d2e18493d1a3"
  },
  {
   "cell_type": "markdown",
   "source": [
    "### Hypothesis\n",
    "The hypothesis function for logistic regression is defined as follows\n",
    "With theta represents the weights of the features and x represents the features of the sample."
   ],
   "metadata": {
    "collapsed": false
   },
   "id": "11c04556267c4946"
  },
  {
   "cell_type": "code",
   "outputs": [
    {
     "name": "stdout",
     "output_type": "stream",
     "text": [
      "0.7310585786300049\n",
      "0.8320183851339245\n",
      "[0.83201839 0.84553473 0.85814894]\n"
     ]
    }
   ],
   "source": [
    "def hypothesis(x, theta):\n",
    "    return 1 / (1 + np.exp(-x @ theta))\n",
    "\n",
    "# Example hypothesis one feature\n",
    "x = np.array([2])\n",
    "theta = np.array([0.5])\n",
    "print(hypothesis(x, theta))\n",
    "\n",
    "# Example hypothesis multiple features\n",
    "x = np.array([1, 3, 4]) #  1 = bias , 3 = feature_1_value, 4 = feature_2_value\n",
    "theta = np.array([0.5, 0.1, 0.2]) # 0.5 = bias, 0.1 = feature_1_weight, 0.2 = feature_2_weight\n",
    "print(hypothesis(x, theta))\n",
    "\n",
    "# Example hypothesis multiple features and multiple samples\n",
    "x = np.array([[1, 3, 4], [1, 2, 5], [1, 1, 6]]) #  1 = bias , 3 = feature_1_value, 4 = feature_2_value\n",
    "theta = np.array([0.5, 0.1, 0.2]) # 0.5 = bias, 0.1 = feature_1_weight, 0.2 = feature_2_weight\n",
    "print(hypothesis(x, theta))"
   ],
   "metadata": {
    "collapsed": false,
    "ExecuteTime": {
     "end_time": "2024-03-22T23:12:39.109115Z",
     "start_time": "2024-03-22T23:12:39.105410Z"
    }
   },
   "id": "983cbc6f17948f3",
   "execution_count": 148
  },
  {
   "cell_type": "markdown",
   "source": [
    "## Gradient\n",
    "### Stochastic Gradient Descent"
   ],
   "metadata": {
    "collapsed": false
   },
   "id": "7690c051fdcb381d"
  },
  {
   "cell_type": "code",
   "outputs": [
    {
     "name": "stdout",
     "output_type": "stream",
     "text": [
      "Log loss: 0.044306145518096855\n",
      "Log loss: 0.03276521293365426\n",
      "Log loss: 0.06795109240518281\n",
      "Log loss: 0.05515150783950265\n",
      "To conclude, the final theta is: \n"
     ]
    },
    {
     "data": {
      "text/plain": "{'gryffindor': array([-2.55876082,  1.99310753, -2.49378916,  0.61828525, -0.96602521,\n        -1.29944392,  1.23049722,  0.45302266, -0.41090371, -0.58484712,\n        -0.4109855 ]),\n 'slytherin': array([-2.55876082,  1.99310753, -2.49378916,  0.61828525, -0.96602521,\n        -1.29944392,  1.23049722,  0.45302266, -0.41090371, -0.58484712,\n        -0.4109855 ]),\n 'ravenclaw': array([-2.55876082,  1.99310753, -2.49378916,  0.61828525, -0.96602521,\n        -1.29944392,  1.23049722,  0.45302266, -0.41090371, -0.58484712,\n        -0.4109855 ]),\n 'hufflepuff': array([-2.55876082,  1.99310753, -2.49378916,  0.61828525, -0.96602521,\n        -1.29944392,  1.23049722,  0.45302266, -0.41090371, -0.58484712,\n        -0.4109855 ])}"
     },
     "execution_count": 175,
     "metadata": {},
     "output_type": "execute_result"
    }
   ],
   "source": [
    "\n",
    "def stochastic_gradient_descent(x, y_true, theta, learning_rate, epochs):\n",
    "    m = x.shape[0]\n",
    "    theta_train = theta\n",
    "    for epoch in range(epochs):\n",
    "        for _ in range(m):\n",
    "            random_index = np.random.randint(m)\n",
    "            x_i = x[random_index:random_index + 1]\n",
    "            y_i = y_true[random_index:random_index + 1]\n",
    "            y_pred = hypothesis(x_i, theta_train)\n",
    "            gradient = x_i.T @ (y_pred - y_i)\n",
    "            theta_train -= learning_rate * gradient\n",
    "    print(\"Log loss: {}\".format(log_loss(y_true, hypothesis(x, theta_train))))\n",
    "    return theta_train\n",
    "\n",
    "bias = np.ones((x_train_standardized.shape[0], 1)) # Create a column of ones for the bias, with x_train.shape[0] = number of rows, so we create a column of ones with the same number of rows as x_train plus one column, the bias\n",
    "initial_theta = np.random.rand(x_bias.shape[1]) * 0.01\n",
    "x_bias = np.hstack([bias, x_train_standardized]) # Add the bias column to the x_train\n",
    "theta_train = {\n",
    "    'gryffindor': stochastic_gradient_descent(x_bias, y_true['gryffindor'], initial_theta , 0.1, 10),\n",
    "    'slytherin': stochastic_gradient_descent(x_bias, y_true['slytherin'], initial_theta, 0.1, 10),\n",
    "    'ravenclaw': stochastic_gradient_descent(x_bias, y_true['ravenclaw'], initial_theta, 0.1, 10),\n",
    "    'hufflepuff': stochastic_gradient_descent(x_bias, y_true['hufflepuff'], initial_theta, 0.1, 10)\n",
    "}\n",
    "\n",
    "print(\"To conclude, the final theta is: \")\n",
    "theta_train\n",
    "# features = train_data_filtered.columns.insert(0, 'Bias')\n",
    "# theta_dict = dict(zip(features, theta_train))\n",
    "# theta_dict"
   ],
   "metadata": {
    "collapsed": false,
    "ExecuteTime": {
     "end_time": "2024-03-22T23:40:39.193490Z",
     "start_time": "2024-03-22T23:40:36.495904Z"
    }
   },
   "id": "dd4111f57d8d705",
   "execution_count": 175
  },
  {
   "cell_type": "markdown",
   "source": [
    "### Store theta train"
   ],
   "metadata": {
    "collapsed": false
   },
   "id": "115777d6a9167e9e"
  },
  {
   "cell_type": "code",
   "outputs": [
    {
     "name": "stdout",
     "output_type": "stream",
     "text": [
      "Store theta train: [-3.78912619 -1.3208913  -0.39183491  1.46743318 -0.32125768  0.95923047\n",
      " -0.40362737 -1.69470572  0.32217927  0.01702317  1.17800333]\n"
     ]
    }
   ],
   "source": [
    "import pickle\n",
    "\n",
    "def store_theta_train(theta_train):\n",
    "    # Store data (serialize)\n",
    "    with open('../data/theta_train.pkl', 'wb') as handle:\n",
    "        pickle.dump(theta_train, handle, protocol=pickle.HIGHEST_PROTOCOL)\n",
    "        print(\"Store theta train:\", theta_train)\n",
    "\n",
    "def load_theta_train():\n",
    "    # Load data (deserialize)\n",
    "    with open('../data/theta_train.pkl', 'rb') as handle:\n",
    "        theta_train = pickle.load(handle)\n",
    "        print(\"Theta_train loaded:\", theta_train)\n",
    "        return theta_train\n",
    "        \n",
    "store_theta_train(theta_train)\n",
    "# theta_train = load_theta_train()\n"
   ],
   "metadata": {
    "collapsed": false,
    "ExecuteTime": {
     "end_time": "2024-03-22T23:15:58.222408Z",
     "start_time": "2024-03-22T23:15:58.219627Z"
    }
   },
   "id": "c9abfa707e722160",
   "execution_count": 160
  },
  {
   "cell_type": "markdown",
   "source": [
    "### Visualisation"
   ],
   "metadata": {
    "collapsed": false
   },
   "id": "f827a6597fc816a6"
  },
  {
   "cell_type": "code",
   "outputs": [
    {
     "ename": "ValueError",
     "evalue": "matmul: Input operand 1 does not have enough dimensions (has 0, gufunc core with signature (n?,k),(k,m?)->(n?,m?) requires 1)",
     "output_type": "error",
     "traceback": [
      "\u001B[0;31m---------------------------------------------------------------------------\u001B[0m",
      "\u001B[0;31mValueError\u001B[0m                                Traceback (most recent call last)",
      "Cell \u001B[0;32mIn[173], line 9\u001B[0m\n\u001B[1;32m      6\u001B[0m         log_losses\u001B[38;5;241m.\u001B[39mappend(log_loss(y_true, hypothesis(x, theta)))\n\u001B[1;32m      7\u001B[0m     plt\u001B[38;5;241m.\u001B[39mplot(log_losses)\n\u001B[0;32m----> 9\u001B[0m \u001B[43mplot_log_loss\u001B[49m\u001B[43m(\u001B[49m\u001B[43mx_bias\u001B[49m\u001B[43m,\u001B[49m\u001B[43m \u001B[49m\u001B[43my_true\u001B[49m\u001B[43m[\u001B[49m\u001B[38;5;124;43m'\u001B[39;49m\u001B[38;5;124;43mgryffindor\u001B[39;49m\u001B[38;5;124;43m'\u001B[39;49m\u001B[43m]\u001B[49m\u001B[43m,\u001B[49m\u001B[43m \u001B[49m\u001B[43mtheta_train\u001B[49m\u001B[43m)\u001B[49m\n\u001B[1;32m     10\u001B[0m \u001B[38;5;66;03m# plot_log_loss(x_bias, theta_train)\u001B[39;00m\n\u001B[1;32m     11\u001B[0m plt\u001B[38;5;241m.\u001B[39mxlabel(\u001B[38;5;124m'\u001B[39m\u001B[38;5;124mEpochs\u001B[39m\u001B[38;5;124m'\u001B[39m)\n",
      "Cell \u001B[0;32mIn[173], line 6\u001B[0m, in \u001B[0;36mplot_log_loss\u001B[0;34m(x, y_true, theta)\u001B[0m\n\u001B[1;32m      4\u001B[0m log_losses \u001B[38;5;241m=\u001B[39m []\n\u001B[1;32m      5\u001B[0m \u001B[38;5;28;01mfor\u001B[39;00m i \u001B[38;5;129;01min\u001B[39;00m \u001B[38;5;28mrange\u001B[39m(x\u001B[38;5;241m.\u001B[39mshape[\u001B[38;5;241m0\u001B[39m]):\n\u001B[0;32m----> 6\u001B[0m     log_losses\u001B[38;5;241m.\u001B[39mappend(log_loss(y_true, \u001B[43mhypothesis\u001B[49m\u001B[43m(\u001B[49m\u001B[43mx\u001B[49m\u001B[43m,\u001B[49m\u001B[43m \u001B[49m\u001B[43mtheta\u001B[49m\u001B[43m)\u001B[49m))\n\u001B[1;32m      7\u001B[0m plt\u001B[38;5;241m.\u001B[39mplot(log_losses)\n",
      "Cell \u001B[0;32mIn[148], line 2\u001B[0m, in \u001B[0;36mhypothesis\u001B[0;34m(x, theta)\u001B[0m\n\u001B[1;32m      1\u001B[0m \u001B[38;5;28;01mdef\u001B[39;00m \u001B[38;5;21mhypothesis\u001B[39m(x, theta):\n\u001B[0;32m----> 2\u001B[0m     \u001B[38;5;28;01mreturn\u001B[39;00m \u001B[38;5;241m1\u001B[39m \u001B[38;5;241m/\u001B[39m (\u001B[38;5;241m1\u001B[39m \u001B[38;5;241m+\u001B[39m np\u001B[38;5;241m.\u001B[39mexp(\u001B[38;5;241;43m-\u001B[39;49m\u001B[43mx\u001B[49m\u001B[43m \u001B[49m\u001B[38;5;241;43m@\u001B[39;49m\u001B[43m \u001B[49m\u001B[43mtheta\u001B[49m))\n",
      "\u001B[0;31mValueError\u001B[0m: matmul: Input operand 1 does not have enough dimensions (has 0, gufunc core with signature (n?,k),(k,m?)->(n?,m?) requires 1)"
     ]
    }
   ],
   "source": [
    "import matplotlib.pyplot as plt\n",
    "\n",
    "def plot_log_loss(x, y_true, theta):\n",
    "    log_losses = []\n",
    "    for i in range(x.shape[0]):\n",
    "        log_losses.append(log_loss(y_true, hypothesis(x, theta)))\n",
    "    plt.plot(log_losses)\n",
    "    \n",
    "plot_log_loss(x_bias, y_true['gryffindor'], theta_train)\n",
    "# plot_log_loss(x_bias, theta_train)\n",
    "plt.xlabel('Epochs')\n",
    "plt.show()\n",
    "plt.ylabel('Log loss')\n",
    "plt.title('Log loss over epochs')"
   ],
   "metadata": {
    "collapsed": false,
    "ExecuteTime": {
     "end_time": "2024-03-22T23:39:03.172582Z",
     "start_time": "2024-03-22T23:39:03.122262Z"
    }
   },
   "id": "840ad8859de803e3",
   "execution_count": 173
  },
  {
   "cell_type": "code",
   "outputs": [
    {
     "data": {
      "text/plain": "<Figure size 1000x600 with 1 Axes>",
      "image/png": "[encoded data removed]"
     },
     "metadata": {},
     "output_type": "display_data"
    }
   ],
   "source": [
    "import numpy as np\n",
    "import matplotlib.pyplot as plt\n",
    "\n",
    "def hypothesis(x, theta):\n",
    "    return 1 / (1 + np.exp(-x @ theta))\n",
    "\n",
    "# Supposons que vous ayez un modèle avec seulement deux paramètres : un biais et un poids pour une seule caractéristique\n",
    "theta = np.array([0.5, -0.7])  # Exemple de valeurs pour theta\n",
    "\n",
    "# Générer une gamme de valeurs pour cette caractéristique\n",
    "feature_range = np.linspace(-10, 10, 400)\n",
    "\n",
    "# Calculer les probabilités prédites pour chaque valeur de la caractéristique\n",
    "# Nous ajoutons une colonne de 1s pour le biais\n",
    "x_bias = np.hstack([np.ones((feature_range.shape[0], 1)), feature_range.reshape(-1, 1)])\n",
    "probabilities = hypothesis(x_bias, theta)\n",
    "\n",
    "# Tracer la fonction hypothesis\n",
    "plt.figure(figsize=(10, 6))\n",
    "plt.plot(feature_range, probabilities, label='Probabilité prédite')\n",
    "plt.xlabel('Valeur de la caractéristique')\n",
    "plt.ylabel('Probabilité de la classe positive')\n",
    "plt.title('Fonction Hypothèse de la Régression Logistique')\n",
    "plt.legend()\n",
    "plt.grid(True)\n",
    "plt.show()"
   ],
   "metadata": {
    "collapsed": false,
    "ExecuteTime": {
     "end_time": "2024-03-22T23:03:15.987134Z",
     "start_time": "2024-03-22T23:03:15.734651Z"
    }
   },
   "id": "154fcc80b3f7623b",
   "execution_count": 112
  }
 ],
 "metadata": {
  "kernelspec": {
   "display_name": "Python 3",
   "language": "python",
   "name": "python3"
  },
  "language_info": {
   "codemirror_mode": {
    "name": "ipython",
    "version": 2
   },
   "file_extension": ".py",
   "mimetype": "text/x-python",
   "name": "python",
   "nbconvert_exporter": "python",
   "pygments_lexer": "ipython2",
   "version": "2.7.6"
  }
 },
 "nbformat": 4,
 "nbformat_minor": 5
}
